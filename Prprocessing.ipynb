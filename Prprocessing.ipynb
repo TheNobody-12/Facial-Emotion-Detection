{
 "cells": [
  {
   "cell_type": "code",
   "execution_count": 29,
   "metadata": {},
   "outputs": [],
   "source": [
    "import numpy as np\n",
    "import pandas as pd\n",
    "import matplotlib.pyplot as plt\n",
    "import seaborn as sns\n",
    "import os\n",
    "import cv2\n",
    "import random\n",
    "import pickle"
   ]
  },
  {
   "cell_type": "code",
   "execution_count": 30,
   "metadata": {},
   "outputs": [],
   "source": [
    "# error sol on 'https://forums.fast.ai/t/oserror-image-file-is-truncated-38-bytes-not-processed/30806'\n",
    "from PIL import ImageFile\n",
    "ImageFile.LOAD_TRUNCATED_IMAGES = True"
   ]
  },
  {
   "cell_type": "code",
   "execution_count": 31,
   "metadata": {},
   "outputs": [],
   "source": [
    "DIRECTORY = r\"F:\\IMP DOCUMENT\\College material\\SEM#5\\New folder\\Facial-Emotion-Detection\\NewImages\"\n",
    "CATEGORIES = [\"Angry\", \"Disgust\", \"Fear\", \"Happy\", \"Neutral\", \"Sad\", \"Surprise\"]"
   ]
  },
  {
   "cell_type": "code",
   "execution_count": 38,
   "metadata": {},
   "outputs": [
    {
     "ename": "error",
     "evalue": "OpenCV(4.5.5) :-1: error: (-5:Bad argument) in function 'resize'\n> Overload resolution failed:\n>  - Can't parse 'dsize'. Expected sequence length 2, got 3\n>  - Can't parse 'dsize'. Expected sequence length 2, got 3\n",
     "output_type": "error",
     "traceback": [
      "\u001b[1;31m---------------------------------------------------------------------------\u001b[0m",
      "\u001b[1;31merror\u001b[0m                                     Traceback (most recent call last)",
      "\u001b[1;32mf:\\IMP DOCUMENT\\College material\\SEM#5\\New folder\\Facial-Emotion-Detection\\Prprocessing.ipynb Cell 4\u001b[0m in \u001b[0;36m<cell line: 5>\u001b[1;34m()\u001b[0m\n\u001b[0;32m     <a href='vscode-notebook-cell:/f%3A/IMP%20DOCUMENT/College%20material/SEM%235/New%20folder/Facial-Emotion-Detection/Prprocessing.ipynb#W4sZmlsZQ%3D%3D?line=10'>11</a>\u001b[0m     img_array \u001b[39m=\u001b[39m cv2\u001b[39m.\u001b[39mimread(img_path)\n\u001b[0;32m     <a href='vscode-notebook-cell:/f%3A/IMP%20DOCUMENT/College%20material/SEM%235/New%20folder/Facial-Emotion-Detection/Prprocessing.ipynb#W4sZmlsZQ%3D%3D?line=11'>12</a>\u001b[0m     img_array \u001b[39m=\u001b[39m cv2\u001b[39m.\u001b[39mcvtColor(img_array, cv2\u001b[39m.\u001b[39mCOLOR_BGR2GRAY)\n\u001b[1;32m---> <a href='vscode-notebook-cell:/f%3A/IMP%20DOCUMENT/College%20material/SEM%235/New%20folder/Facial-Emotion-Detection/Prprocessing.ipynb#W4sZmlsZQ%3D%3D?line=12'>13</a>\u001b[0m     new_array \u001b[39m=\u001b[39m cv2\u001b[39m.\u001b[39;49mresize(img_array, (IMG_SIZE, IMG_SIZE,\u001b[39m3\u001b[39;49m))\n\u001b[0;32m     <a href='vscode-notebook-cell:/f%3A/IMP%20DOCUMENT/College%20material/SEM%235/New%20folder/Facial-Emotion-Detection/Prprocessing.ipynb#W4sZmlsZQ%3D%3D?line=13'>14</a>\u001b[0m     data\u001b[39m.\u001b[39mappend([new_array, label])\n\u001b[0;32m     <a href='vscode-notebook-cell:/f%3A/IMP%20DOCUMENT/College%20material/SEM%235/New%20folder/Facial-Emotion-Detection/Prprocessing.ipynb#W4sZmlsZQ%3D%3D?line=14'>15</a>\u001b[0m \u001b[39m# for img in os.listdir(folder):\u001b[39;00m\n\u001b[0;32m     <a href='vscode-notebook-cell:/f%3A/IMP%20DOCUMENT/College%20material/SEM%235/New%20folder/Facial-Emotion-Detection/Prprocessing.ipynb#W4sZmlsZQ%3D%3D?line=15'>16</a>\u001b[0m \u001b[39m#     img_path = os.path.join(folder,img)\u001b[39;00m\n\u001b[0;32m     <a href='vscode-notebook-cell:/f%3A/IMP%20DOCUMENT/College%20material/SEM%235/New%20folder/Facial-Emotion-Detection/Prprocessing.ipynb#W4sZmlsZQ%3D%3D?line=16'>17</a>\u001b[0m \u001b[39m#     img_arr = plt.imread(img_path)\u001b[39;00m\n\u001b[0;32m     <a href='vscode-notebook-cell:/f%3A/IMP%20DOCUMENT/College%20material/SEM%235/New%20folder/Facial-Emotion-Detection/Prprocessing.ipynb#W4sZmlsZQ%3D%3D?line=17'>18</a>\u001b[0m \u001b[39m#     img_arr = cv2.resize(img_arr,(IMG_SIZE,IMG_SIZE))\u001b[39;00m\n\u001b[0;32m     <a href='vscode-notebook-cell:/f%3A/IMP%20DOCUMENT/College%20material/SEM%235/New%20folder/Facial-Emotion-Detection/Prprocessing.ipynb#W4sZmlsZQ%3D%3D?line=18'>19</a>\u001b[0m \u001b[39m#     data.append([img_arr,label])\u001b[39;00m\n",
      "\u001b[1;31merror\u001b[0m: OpenCV(4.5.5) :-1: error: (-5:Bad argument) in function 'resize'\n> Overload resolution failed:\n>  - Can't parse 'dsize'. Expected sequence length 2, got 3\n>  - Can't parse 'dsize'. Expected sequence length 2, got 3\n"
     ]
    }
   ],
   "source": [
    "IMG_SIZE = 100 \n",
    "# take only 1500 images from each category \n",
    "\n",
    "data = []\n",
    "for category in CATEGORIES:\n",
    "    folder = os.path.join(DIRECTORY,category)\n",
    "    label = CATEGORIES.index(category)\n",
    "    # take only 1500 images from each category\n",
    "    for img in os.listdir(folder)[:3000]:\n",
    "        img_path = os.path.join(folder,img)\n",
    "        img_array = cv2.imread(img_path)\n",
    "        img_array = cv2.cvtColor(img_array, cv2.COLOR_BGR2GRAY)\n",
    "        new_array = cv2.resize(img_array, (IMG_SIZE, IMG_SIZE,3))\n",
    "        data.append([new_array, label])\n",
    "    # for img in os.listdir(folder):\n",
    "    #     img_path = os.path.join(folder,img)\n",
    "    #     img_arr = plt.imread(img_path)\n",
    "    #     img_arr = cv2.resize(img_arr,(IMG_SIZE,IMG_SIZE))\n",
    "    #     data.append([img_arr,label])\n",
    "random.shuffle(data)"
   ]
  },
  {
   "cell_type": "code",
   "execution_count": 33,
   "metadata": {},
   "outputs": [
    {
     "data": {
      "text/plain": [
       "(21000, 21000)"
      ]
     },
     "execution_count": 33,
     "metadata": {},
     "output_type": "execute_result"
    }
   ],
   "source": [
    "# X=[]\n",
    "# Y=[]\n",
    "# for features,label in data:\n",
    "#     X.append(features)\n",
    "#     Y.append(label)\n",
    "# len(X),len(Y)\n",
    "        # reshape the image (100,100) to (100,100,3\n",
    "\n",
    "X=[]\n",
    "Y=[]\n",
    "for features ,label in data:\n",
    "    X.append(features)\n",
    "    Y.append(label)\n",
    "li = []\n",
    "len(X),len(Y)\n"
   ]
  },
  {
   "cell_type": "code",
   "execution_count": null,
   "metadata": {},
   "outputs": [],
   "source": [
    "for i in range(len(X)):\n",
    "    if X[i].shape == (IMG_SIZE,IMG_SIZE,3) :\n",
    "        li.append(X[i])\n",
    "    else:\n",
    "        #  remove elements from the list\n",
    "        print(i)\n",
    "        del Y[i]\n",
    "len(Y),len(li)"
   ]
  },
  {
   "cell_type": "code",
   "execution_count": 36,
   "metadata": {},
   "outputs": [
    {
     "data": {
      "text/plain": [
       "((21000, 100, 100, 1), (21000, 1, 1))"
      ]
     },
     "execution_count": 36,
     "metadata": {},
     "output_type": "execute_result"
    }
   ],
   "source": [
    "# reshape the image (100,100) to (100,100,3)\n",
    "X1 = np.array(X).reshape(-1, IMG_SIZE, IMG_SIZE, 1)\n",
    "Y1 = np.array(Y).reshape(-1,1,1)\n",
    "\n",
    "X1.shape,Y1.shape"
   ]
  },
  {
   "cell_type": "code",
   "execution_count": null,
   "metadata": {},
   "outputs": [],
   "source": []
  },
  {
   "cell_type": "code",
   "execution_count": 37,
   "metadata": {},
   "outputs": [],
   "source": [
    "pickle.dump(X1,open('features100-X2.pkl','wb'))\n",
    "pickle.dump(Y1,open('labels100-Y2.pkl','wb'))\n",
    "# choose first 15000 readings from X\n",
    "X1 = X1[:15000]"
   ]
  },
  {
   "cell_type": "code",
   "execution_count": 22,
   "metadata": {},
   "outputs": [
    {
     "ename": "AttributeError",
     "evalue": "'list' object has no attribute 'reshape'",
     "output_type": "error",
     "traceback": [
      "\u001b[1;31m---------------------------------------------------------------------------\u001b[0m",
      "\u001b[1;31mAttributeError\u001b[0m                            Traceback (most recent call last)",
      "\u001b[1;32mf:\\IMP DOCUMENT\\College material\\SEM#5\\New folder\\Facial-Emotion-Detection\\Prprocessing.ipynb Cell 10\u001b[0m in \u001b[0;36m<cell line: 2>\u001b[1;34m()\u001b[0m\n\u001b[0;32m      <a href='vscode-notebook-cell:/f%3A/IMP%20DOCUMENT/College%20material/SEM%235/New%20folder/Facial-Emotion-Detection/Prprocessing.ipynb#X12sZmlsZQ%3D%3D?line=0'>1</a>\u001b[0m \u001b[39m# reshape (100,100) to (100,100,3)\u001b[39;00m\n\u001b[1;32m----> <a href='vscode-notebook-cell:/f%3A/IMP%20DOCUMENT/College%20material/SEM%235/New%20folder/Facial-Emotion-Detection/Prprocessing.ipynb#X12sZmlsZQ%3D%3D?line=1'>2</a>\u001b[0m X1 \u001b[39m=\u001b[39m X1\u001b[39m.\u001b[39;49mreshape(\u001b[39m-\u001b[39m\u001b[39m1\u001b[39m,\u001b[39m100\u001b[39m,\u001b[39m100\u001b[39m,\u001b[39m3\u001b[39m)\n\u001b[0;32m      <a href='vscode-notebook-cell:/f%3A/IMP%20DOCUMENT/College%20material/SEM%235/New%20folder/Facial-Emotion-Detection/Prprocessing.ipynb#X12sZmlsZQ%3D%3D?line=2'>3</a>\u001b[0m Y1 \u001b[39m=\u001b[39m Y1\u001b[39m.\u001b[39mreshape(\u001b[39m-\u001b[39m\u001b[39m1\u001b[39m,\u001b[39m1\u001b[39m,\u001b[39m1\u001b[39m)\n\u001b[0;32m      <a href='vscode-notebook-cell:/f%3A/IMP%20DOCUMENT/College%20material/SEM%235/New%20folder/Facial-Emotion-Detection/Prprocessing.ipynb#X12sZmlsZQ%3D%3D?line=4'>5</a>\u001b[0m X1\u001b[39m.\u001b[39mshape,Y1\u001b[39m.\u001b[39mshape\n",
      "\u001b[1;31mAttributeError\u001b[0m: 'list' object has no attribute 'reshape'"
     ]
    }
   ],
   "source": [
    "# reshape (100,100) to (100,100,3)\n",
    "X1 = X1.reshape(-1,100,100,3)\n",
    "Y1 = Y1.reshape(-1,1,1)\n",
    "\n",
    "X1.shape,Y1.shape\n"
   ]
  },
  {
   "cell_type": "code",
   "execution_count": 39,
   "metadata": {},
   "outputs": [
    {
     "name": "stdout",
     "output_type": "stream",
     "text": [
      "WARNING:tensorflow:Model was constructed with shape (None, None, None, 3) for input KerasTensor(type_spec=TensorSpec(shape=(None, None, None, 3), dtype=tf.float32, name='input_1'), name='input_1', description=\"created by layer 'input_1'\"), but it was called on an input with incompatible shape (None, 100, 100, 1).\n"
     ]
    },
    {
     "ename": "ValueError",
     "evalue": "in user code:\n\n    File \"c:\\Users\\LENOVO\\AppData\\Local\\Programs\\Python\\Python310\\lib\\site-packages\\keras\\engine\\training.py\", line 1845, in predict_function  *\n        return step_function(self, iterator)\n    File \"c:\\Users\\LENOVO\\AppData\\Local\\Programs\\Python\\Python310\\lib\\site-packages\\keras\\engine\\training.py\", line 1834, in step_function  **\n        outputs = model.distribute_strategy.run(run_step, args=(data,))\n    File \"c:\\Users\\LENOVO\\AppData\\Local\\Programs\\Python\\Python310\\lib\\site-packages\\keras\\engine\\training.py\", line 1823, in run_step  **\n        outputs = model.predict_step(data)\n    File \"c:\\Users\\LENOVO\\AppData\\Local\\Programs\\Python\\Python310\\lib\\site-packages\\keras\\engine\\training.py\", line 1791, in predict_step\n        return self(x, training=False)\n    File \"c:\\Users\\LENOVO\\AppData\\Local\\Programs\\Python\\Python310\\lib\\site-packages\\keras\\utils\\traceback_utils.py\", line 67, in error_handler\n        raise e.with_traceback(filtered_tb) from None\n    File \"c:\\Users\\LENOVO\\AppData\\Local\\Programs\\Python\\Python310\\lib\\site-packages\\keras\\engine\\input_spec.py\", line 248, in assert_input_compatibility\n        raise ValueError(\n\n    ValueError: Exception encountered when calling layer \"vgg16\" (type Functional).\n    \n    Input 0 of layer \"block1_conv1\" is incompatible with the layer: expected axis -1 of input shape to have value 3, but received input with shape (None, 100, 100, 1)\n    \n    Call arguments received by layer \"vgg16\" (type Functional):\n      • inputs=tf.Tensor(shape=(None, 100, 100, 1), dtype=uint8)\n      • training=False\n      • mask=None\n",
     "output_type": "error",
     "traceback": [
      "\u001b[1;31m---------------------------------------------------------------------------\u001b[0m",
      "\u001b[1;31mValueError\u001b[0m                                Traceback (most recent call last)",
      "\u001b[1;32mf:\\IMP DOCUMENT\\College material\\SEM#5\\New folder\\Facial-Emotion-Detection\\Prprocessing.ipynb Cell 11\u001b[0m in \u001b[0;36m<cell line: 8>\u001b[1;34m()\u001b[0m\n\u001b[0;32m      <a href='vscode-notebook-cell:/f%3A/IMP%20DOCUMENT/College%20material/SEM%235/New%20folder/Facial-Emotion-Detection/Prprocessing.ipynb#X13sZmlsZQ%3D%3D?line=3'>4</a>\u001b[0m \u001b[39mimport\u001b[39;00m \u001b[39mnumpy\u001b[39;00m \u001b[39mas\u001b[39;00m \u001b[39mnp\u001b[39;00m\n\u001b[0;32m      <a href='vscode-notebook-cell:/f%3A/IMP%20DOCUMENT/College%20material/SEM%235/New%20folder/Facial-Emotion-Detection/Prprocessing.ipynb#X13sZmlsZQ%3D%3D?line=5'>6</a>\u001b[0m model \u001b[39m=\u001b[39m VGG16(weights\u001b[39m=\u001b[39m\u001b[39m'\u001b[39m\u001b[39mimagenet\u001b[39m\u001b[39m'\u001b[39m, include_top\u001b[39m=\u001b[39m\u001b[39mFalse\u001b[39;00m)\n\u001b[1;32m----> <a href='vscode-notebook-cell:/f%3A/IMP%20DOCUMENT/College%20material/SEM%235/New%20folder/Facial-Emotion-Detection/Prprocessing.ipynb#X13sZmlsZQ%3D%3D?line=7'>8</a>\u001b[0m X1 \u001b[39m=\u001b[39m model\u001b[39m.\u001b[39;49mpredict(X1)\n",
      "File \u001b[1;32mc:\\Users\\LENOVO\\AppData\\Local\\Programs\\Python\\Python310\\lib\\site-packages\\keras\\utils\\traceback_utils.py:67\u001b[0m, in \u001b[0;36mfilter_traceback.<locals>.error_handler\u001b[1;34m(*args, **kwargs)\u001b[0m\n\u001b[0;32m     65\u001b[0m \u001b[39mexcept\u001b[39;00m \u001b[39mException\u001b[39;00m \u001b[39mas\u001b[39;00m e:  \u001b[39m# pylint: disable=broad-except\u001b[39;00m\n\u001b[0;32m     66\u001b[0m   filtered_tb \u001b[39m=\u001b[39m _process_traceback_frames(e\u001b[39m.\u001b[39m__traceback__)\n\u001b[1;32m---> 67\u001b[0m   \u001b[39mraise\u001b[39;00m e\u001b[39m.\u001b[39mwith_traceback(filtered_tb) \u001b[39mfrom\u001b[39;00m \u001b[39mNone\u001b[39m\n\u001b[0;32m     68\u001b[0m \u001b[39mfinally\u001b[39;00m:\n\u001b[0;32m     69\u001b[0m   \u001b[39mdel\u001b[39;00m filtered_tb\n",
      "File \u001b[1;32mC:\\Users\\Public\\Documents\\Wondershare\\CreatorTemp\\__autograph_generated_fileo8s8dwr3.py:15\u001b[0m, in \u001b[0;36mouter_factory.<locals>.inner_factory.<locals>.tf__predict_function\u001b[1;34m(iterator)\u001b[0m\n\u001b[0;32m     13\u001b[0m \u001b[39mtry\u001b[39;00m:\n\u001b[0;32m     14\u001b[0m     do_return \u001b[39m=\u001b[39m \u001b[39mTrue\u001b[39;00m\n\u001b[1;32m---> 15\u001b[0m     retval_ \u001b[39m=\u001b[39m ag__\u001b[39m.\u001b[39mconverted_call(ag__\u001b[39m.\u001b[39mld(step_function), (ag__\u001b[39m.\u001b[39mld(\u001b[39mself\u001b[39m), ag__\u001b[39m.\u001b[39mld(iterator)), \u001b[39mNone\u001b[39;00m, fscope)\n\u001b[0;32m     16\u001b[0m \u001b[39mexcept\u001b[39;00m:\n\u001b[0;32m     17\u001b[0m     do_return \u001b[39m=\u001b[39m \u001b[39mFalse\u001b[39;00m\n",
      "\u001b[1;31mValueError\u001b[0m: in user code:\n\n    File \"c:\\Users\\LENOVO\\AppData\\Local\\Programs\\Python\\Python310\\lib\\site-packages\\keras\\engine\\training.py\", line 1845, in predict_function  *\n        return step_function(self, iterator)\n    File \"c:\\Users\\LENOVO\\AppData\\Local\\Programs\\Python\\Python310\\lib\\site-packages\\keras\\engine\\training.py\", line 1834, in step_function  **\n        outputs = model.distribute_strategy.run(run_step, args=(data,))\n    File \"c:\\Users\\LENOVO\\AppData\\Local\\Programs\\Python\\Python310\\lib\\site-packages\\keras\\engine\\training.py\", line 1823, in run_step  **\n        outputs = model.predict_step(data)\n    File \"c:\\Users\\LENOVO\\AppData\\Local\\Programs\\Python\\Python310\\lib\\site-packages\\keras\\engine\\training.py\", line 1791, in predict_step\n        return self(x, training=False)\n    File \"c:\\Users\\LENOVO\\AppData\\Local\\Programs\\Python\\Python310\\lib\\site-packages\\keras\\utils\\traceback_utils.py\", line 67, in error_handler\n        raise e.with_traceback(filtered_tb) from None\n    File \"c:\\Users\\LENOVO\\AppData\\Local\\Programs\\Python\\Python310\\lib\\site-packages\\keras\\engine\\input_spec.py\", line 248, in assert_input_compatibility\n        raise ValueError(\n\n    ValueError: Exception encountered when calling layer \"vgg16\" (type Functional).\n    \n    Input 0 of layer \"block1_conv1\" is incompatible with the layer: expected axis -1 of input shape to have value 3, but received input with shape (None, 100, 100, 1)\n    \n    Call arguments received by layer \"vgg16\" (type Functional):\n      • inputs=tf.Tensor(shape=(None, 100, 100, 1), dtype=uint8)\n      • training=False\n      • mask=None\n"
     ]
    }
   ],
   "source": [
    "from tensorflow.keras.applications.vgg16 import VGG16\n",
    "from tensorflow.keras.preprocessing import image\n",
    "from tensorflow.keras.applications.vgg16 import preprocess_input\n",
    "import numpy as np\n",
    "\n",
    "model = VGG16(weights='imagenet', include_top=False)\n",
    "\n",
    "X1 = model.predict(X1)\n"
   ]
  },
  {
   "cell_type": "code",
   "execution_count": 44,
   "metadata": {},
   "outputs": [
    {
     "name": "stdout",
     "output_type": "stream",
     "text": [
      "Happy\n",
      "F:\\IMP DOCUMENT\\College material\\SEM#5\\New folder\\Facial-Emotion-Detection\\NewImages\\Happy\n"
     ]
    },
    {
     "data": {
      "image/png": "[encoded data removed]",
      "text/plain": [
       "<Figure size 432x288 with 1 Axes>"
      ]
     },
     "metadata": {
      "needs_background": "light"
     },
     "output_type": "display_data"
    }
   ],
   "source": [
    "# take random image from Directory\n",
    "DIRECTORY = r\"F:\\IMP DOCUMENT\\College material\\SEM#5\\New folder\\Facial-Emotion-Detection\\NewImages\"\n",
    "CATEGORIES = [\"Angry\", \"Disgust\", \"Fear\", \"Happy\", \"Neutral\", \"Sad\", \"Surprise\"]\n",
    "IMG_SIZE = 100\n",
    "# print random index from CATEGORIES\n",
    "RandomC =random.choice(CATEGORIES)\n",
    "print(RandomC)\n",
    "# print random image from CATEGORIES\n",
    "folder = os.path.join(DIRECTORY,RandomC)\n",
    "print(folder)\n",
    "img = random.choice(os.listdir(folder))\n",
    "img_path = os.path.join(folder,img)\n",
    "img_arr = plt.imread(img_path) \n",
    "img_arr = cv2.resize(img_arr,(IMG_SIZE,IMG_SIZE))\n",
    "plt.imshow(img_arr)\n",
    "plt.show()  \n",
    "\n",
    "#  test image on the save model\n",
    "img_arr = img_arr.reshape(-1,100,100,3)\n",
    "img_arr.shape\n",
    "img_arr = model.predict(img_arr)\n"
   ]
  },
  {
   "cell_type": "code",
   "execution_count": null,
   "metadata": {},
   "outputs": [],
   "source": []
  }
 ],
 "metadata": {
  "kernelspec": {
   "display_name": "Python 3.10.4 64-bit",
   "language": "python",
   "name": "python3"
  },
  "language_info": {
   "codemirror_mode": {
    "name": "ipython",
    "version": 3
   },
   "file_extension": ".py",
   "mimetype": "text/x-python",
   "name": "python",
   "nbconvert_exporter": "python",
   "pygments_lexer": "ipython3",
   "version": "3.10.4"
  },
  "orig_nbformat": 4,
  "vscode": {
   "interpreter": {
    "hash": "f2ccb58c476f33ba3e3aee7ac07234ef6b8217ef24ad64d2a7d4fed1a57c1cd2"
   }
  }
 },
 "nbformat": 4,
 "nbformat_minor": 2
}
